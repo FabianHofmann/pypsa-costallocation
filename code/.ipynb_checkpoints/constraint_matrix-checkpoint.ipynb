{
 "cells": [
  {
   "cell_type": "markdown",
   "metadata": {},
   "source": [
    "# Cost Allocation from Constraint Matrix"
   ]
  },
  {
   "cell_type": "markdown",
   "metadata": {},
   "source": [
    "### Import packages"
   ]
  },
  {
   "cell_type": "code",
   "execution_count": 1,
   "metadata": {},
   "outputs": [],
   "source": [
    "import pypsa\n",
    "import pandas as pd\n",
    "from helpers import get_linear_system, noisy_lopf\n",
    "import networks"
   ]
  },
  {
   "cell_type": "markdown",
   "metadata": {},
   "source": [
    "## Load example network"
   ]
  },
  {
   "cell_type": "code",
   "execution_count": 179,
   "metadata": {
    "lines_to_next_cell": 2,
    "title": "create example"
   },
   "outputs": [],
   "source": [
    "d0 = 80\n",
    "d1 = 131\n",
    "o0 = 52\n",
    "o1 = 101\n",
    "o2 = 156\n",
    "c0 = 1060\n",
    "c1 = 1050\n",
    "c2 = 1020\n",
    "c_l = 100"
   ]
  },
  {
   "cell_type": "markdown",
   "metadata": {},
   "source": [
    "### 1. Option - One Bus, One Snapshot, Two Generators without invesment\n",
    "\n",
    "$G_1 < d < G_1 + G_2$\n",
    "\n",
    "Note, for such a system the total system cost $TC$ are less then the nodal payments as soon as one generator is at its limit: \n",
    "\n",
    "$\\lambda = o_s + \\bar{\\mu_s} \\;\\;\\;\\;\\; \\forall s$\n",
    "\n",
    "$d \\, \\lambda = d \\, (o_s + \\bar{\\mu_s} ) \\ge \\sum_s g_s \\, o_s = TC$"
   ]
  },
  {
   "cell_type": "code",
   "execution_count": 180,
   "metadata": {
    "lines_to_next_cell": 2,
    "title": "create example"
   },
   "outputs": [
    {
     "data": {
      "text/plain": [
       "Index(['Gen0', 'Gen1'], dtype='object')"
      ]
     },
     "execution_count": 180,
     "metadata": {},
     "output_type": "execute_result"
    }
   ],
   "source": [
    "n = pypsa.Network()\n",
    "n.add('Bus', 'Bus1')\n",
    "n.add('Load', 0, bus='Bus1', p_set=d0)\n",
    "n.madd('Generator', ['Gen0', 'Gen1'], bus='Bus1', marginal_cost=[o0, o1], p_nom=40)"
   ]
  },
  {
   "cell_type": "markdown",
   "metadata": {},
   "source": [
    "### 2. Option - Same as before with investment\n",
    "\n",
    "Here the total cost are payed by the consumers\n",
    "\n",
    "$TC = \\lambda d$"
   ]
  },
  {
   "cell_type": "code",
   "execution_count": 219,
   "metadata": {},
   "outputs": [
    {
     "data": {
      "text/plain": [
       "Index(['Gen0', 'Gen1'], dtype='object')"
      ]
     },
     "execution_count": 219,
     "metadata": {},
     "output_type": "execute_result"
    }
   ],
   "source": [
    "n = pypsa.Network()\n",
    "n.add('Bus', 'Bus1')\n",
    "n.add('Load', 0, bus='Bus1', p_set=d0)\n",
    "n.madd('Generator', ['Gen0', 'Gen1'], bus='Bus1', marginal_cost=[o0, o1], capital_cost=[c0, c1], \n",
    "       p_nom_extendable=True)"
   ]
  },
  {
   "cell_type": "markdown",
   "metadata": {},
   "source": [
    "### 3. Option Base + Peak Generators, One Bus, Multiple Snapshots"
   ]
  },
  {
   "cell_type": "code",
   "execution_count": 238,
   "metadata": {},
   "outputs": [
    {
     "name": "stderr",
     "output_type": "stream",
     "text": [
      "WARNING:pypsa.io:Components Index(['1', '2', '3', '4', '5', '6', '7', '8'], dtype='object') for attribute p_set of Load are not in main components dataframe loads\n"
     ]
    },
    {
     "data": {
      "text/plain": [
       "Index(['Gen0', 'Gen1'], dtype='object')"
      ]
     },
     "execution_count": 238,
     "metadata": {},
     "output_type": "execute_result"
    }
   ],
   "source": [
    "load = pd.DataFrame([[50, 50, 50, 50, 50, 90, 50, 50, 50]], index=[0])\n",
    "\n",
    "n = pypsa.Network()\n",
    "n.set_snapshots(range(len(load)))\n",
    "n.add('Bus', 'Bus1')\n",
    "n.madd('Load', [0], bus='Bus1', p_set=load)\n",
    "n.madd('Generator', ['Gen0', 'Gen1'], bus='Bus1', marginal_cost=[20, 40], capital_cost=[300, 100], \n",
    "       p_nom_extendable=True)"
   ]
  },
  {
   "cell_type": "markdown",
   "metadata": {},
   "source": [
    "### 3. Option - One Bus, Two Snapshots, Three Generators with Investment"
   ]
  },
  {
   "cell_type": "code",
   "execution_count": 5,
   "metadata": {
    "lines_to_next_cell": 2,
    "title": "create example"
   },
   "outputs": [
    {
     "data": {
      "text/plain": [
       "Index(['Gen0', 'Gen1', 'Gen2'], dtype='object')"
      ]
     },
     "execution_count": 5,
     "metadata": {},
     "output_type": "execute_result"
    }
   ],
   "source": [
    "n = pypsa.Network()\n",
    "n.set_snapshots(range(2))\n",
    "n.madd('Bus', ['Bus1'])\n",
    "n.madd('Load', [0], bus='Bus1', p_set=pd.DataFrame({0: [d0, d1]}, index=n.snapshots))\n",
    "n.madd('Generator', [f'Gen{i}' for i in [0, 1, 2]], bus='Bus1', p_nom_extendable=True,\n",
    "        marginal_cost=[o0, o1, o2], capital_cost=[c0, c1, c2],\n",
    "        p_nom=[10, 11, 10], p_nom_max=100, carrier=list('abc'))"
   ]
  },
  {
   "cell_type": "markdown",
   "metadata": {},
   "source": [
    "### 4. Option - AC-DC pypsa network"
   ]
  },
  {
   "cell_type": "code",
   "execution_count": 6,
   "metadata": {
    "lines_to_next_cell": 2,
    "title": "create example"
   },
   "outputs": [],
   "source": [
    "# n = ntl.test.get_network_ac_dc()\n",
    "# n.generators['p_nom'] = 0\n",
    "# n.links['p_nom'] = 0\n",
    "# n.lines['s_nom'] = 0\n",
    "# n.set_snapshots(n.snapshots[[0]])"
   ]
  },
  {
   "cell_type": "markdown",
   "metadata": {},
   "source": [
    "## Add random noise & solve network"
   ]
  },
  {
   "cell_type": "code",
   "execution_count": 239,
   "metadata": {
    "title": "add noise to all upper and lower bounds"
   },
   "outputs": [
    {
     "name": "stderr",
     "output_type": "stream",
     "text": [
      "INFO:pypsa.linopf:Prepare linear problem\n",
      "INFO:pypsa.linopf:Total preparation time: 0.12s\n",
      "INFO:pypsa.linopf:Solve linear problem using Gurobi solver\n"
     ]
    },
    {
     "name": "stdout",
     "output_type": "stream",
     "text": [
      "Read LP format model from file /tmp/pypsa-problem-l25_d3os.lp\n",
      "Reading time = 0.00 seconds\n",
      "obj: 9 rows, 5 columns, 14 nonzeros\n",
      "Gurobi Optimizer version 9.0.0 build v9.0.0rc2 (linux64)\n",
      "Optimize a model with 9 rows, 5 columns and 14 nonzeros\n",
      "Model fingerprint: 0xc46d451c\n",
      "Coefficient statistics:\n",
      "  Matrix range     [2e-03, 1e+00]\n",
      "  Objective range  [1e+00, 3e+02]\n",
      "  Bounds range     [0e+00, 0e+00]\n",
      "  RHS range        [6e-03, 5e+01]\n",
      "Presolve removed 6 rows and 2 columns\n",
      "Presolve time: 0.00s\n",
      "Presolved: 3 rows, 3 columns, 8 nonzeros\n",
      "\n",
      "Iteration    Objective       Primal Inf.    Dual Inf.      Time\n",
      "       0    2.0007674e+03   6.249781e+00   0.000000e+00      0s\n",
      "       2    6.9564202e+03   0.000000e+00   0.000000e+00      0s\n",
      "\n",
      "Solved in 2 iterations and 0.01 seconds\n",
      "Optimal objective  6.956420158e+03\n"
     ]
    },
    {
     "name": "stderr",
     "output_type": "stream",
     "text": [
      "INFO:pypsa.linopf:Optimization successful. Objective value: 6.96e+03\n"
     ]
    },
    {
     "data": {
      "text/plain": [
       "('ok', 'optimal')"
      ]
     },
     "execution_count": 239,
     "metadata": {},
     "output_type": "execute_result"
    }
   ],
   "source": [
    "for c, attr in pypsa.descriptors.nominal_attrs.items():\n",
    "    if n.df(c).empty:\n",
    "        continue\n",
    "\n",
    "    n.df(c)[attr + '_min'] += rand(len(n.df(c)))/100\n",
    "    n.df(c)[attr + '_max'] += rand(len(n.df(c)))/100\n",
    "\n",
    "    min_pu = attr.replace('nom', 'min_pu')\n",
    "    max_pu = attr.replace('nom', 'max_pu')\n",
    "\n",
    "    default = n.df(c)[max_pu]\n",
    "    n.pnl(c)[max_pu] = n.pnl(c)[max_pu]\\\n",
    "        .reindex(index=n.snapshots, columns=n.df(c).index).fillna(default)\n",
    "    assert all(n.pnl(c)[max_pu].notnull())\n",
    "    n.pnl(c)[max_pu] += rand(*n.pnl(c)[max_pu].shape)/100\n",
    "\n",
    "    if min_pu in n.pnl(c):\n",
    "        default = n.df(c)[min_pu]\n",
    "        n.pnl(c)[min_pu] = n.pnl(c)[min_pu]\\\n",
    "            .reindex(index=n.snapshots, columns=n.df(c).index).fillna(default)\n",
    "        assert all(n.pnl(c)[min_pu].notnull())\n",
    "        n.pnl(c)[min_pu] += rand(*n.pnl(c)[min_pu].shape)/100\n",
    "\n",
    "\n",
    "n.lopf(pyomo=False, keep_shadowprices=True, keep_references=True,\n",
    "       solver_name='gurobi')"
   ]
  },
  {
   "cell_type": "markdown",
   "metadata": {},
   "source": [
    "### Extract gorubi variables and constraint in correct order"
   ]
  },
  {
   "cell_type": "code",
   "execution_count": 240,
   "metadata": {
    "lines_to_next_cell": 2,
    "title": "get indeces of all variables and constraints"
   },
   "outputs": [],
   "source": [
    "def to_series(df):\n",
    "    \"\"\"Standardize time and static variables.\"\"\"\n",
    "    return df.stack() if df.ndim > 1 else concat([df], keys=['static'])\n",
    "\n",
    "vars, cons = {}, {}\n",
    "for comp, attr in n.variables.index:\n",
    "    vars[comp, attr] = to_series(get_var(n, comp, attr)).swaplevel(-1, -2)\n",
    "vars = concat(vars, axis=0, names=['component', 'name', 'component_i', 'snapshot'])\n",
    "grb_varindex = Series({v.VarName: v.index for v in n.model.getVars()})\\\n",
    "                      .pipe(set_int_index)\n",
    "vars_index = vars.map(grb_varindex).sort_values().index\n",
    "\n",
    "for comp, attr in n.constraints.index:\n",
    "    cons[comp, attr] = to_series(get_con(n, comp, attr)).swaplevel(-1, -2)\n",
    "cons = concat(cons, axis=0, names=['component', 'name', 'component_i', 'snapshot'])\n",
    "grb_conindex = Series({c.ConstrName: c.index for c in n.model.getConstrs()})\\\n",
    "                      .pipe(set_int_index)\n",
    "cons_index = cons.map(grb_conindex).sort_values().index\n",
    "\n",
    "demand = (n.loads_t.p.groupby(n.loads.bus, axis=1)\n",
    "          .sum().reindex(columns=n.buses.index, fill_value=0)\n",
    "          .stack())"
   ]
  },
  {
   "cell_type": "markdown",
   "metadata": {},
   "source": [
    "## Calculate $r_{(n,t)}^i$"
   ]
  },
  {
   "cell_type": "code",
   "execution_count": 241,
   "metadata": {
    "title": "extract allocations"
   },
   "outputs": [],
   "source": [
    "tolerance = dict(atol=1e-5, rtol=1e-5)\n",
    "\n",
    "O = n.model.getObjective()\n",
    "A = n.model.getA().T # first dimension {vars} second {cons}\n",
    "x = array([v.x for v in n.model.getVars()])\n",
    "d = array([c.RHS  for c in n.model.getConstrs()])\n",
    "c = np.zeros_like(x)\n",
    "for t in range(O.size()): c[O.getVar(t).index] = O.getCoeff(t)\n",
    "m = array([c.Pi for c in n.model.getConstrs()])\n",
    "\n",
    "# remove the objective constant variable\n",
    "nonzero_b = A.getnnz(1) > 0\n",
    "A = A[nonzero_b]\n",
    "x = x[nonzero_b]\n",
    "c = c[nonzero_b]\n",
    "B = (x * A).round(8) == d\n",
    "N, M = A.shape\n",
    "\n",
    "assert sum(B) == N\n",
    "assert_allclose(x * A[:, B], d[B], **tolerance)\n",
    "\n",
    "A_inv = spinv(A[:, B].tocsc()).T\n",
    "lmp_i = Series(range(N), cons_index[B]).Bus.marginal_price.rename_axis(['Bus', 'snapshot'])\n",
    "lmp = m[B][lmp_i]\n",
    "r = A_inv[:, lmp_i] * diags(d[B][lmp_i])\n",
    "\n",
    "assert_allclose(d[B][lmp_i], demand.values, **tolerance)\n",
    "assert_allclose(x, A_inv * d[B], **tolerance)\n",
    "assert_allclose(c * r, lmp * demand.values, rtol=1e-7, atol=1e-2)"
   ]
  },
  {
   "cell_type": "markdown",
   "metadata": {},
   "source": [
    "### Convert to (sparse) pandas & consider only binding constraint space\n",
    "\n",
    "Define new matrix:  \n",
    "\n",
    "$D_{i, (n,t)} = {A'}^{-1}_{i,(n,t)}$"
   ]
  },
  {
   "cell_type": "code",
   "execution_count": 242,
   "metadata": {
    "title": "extract allocations"
   },
   "outputs": [],
   "source": [
    "r = DataFrame.sparse.from_spmatrix(r, vars_index, lmp_i.index)\n",
    "D = DataFrame.sparse.from_spmatrix(A_inv[:, lmp_i], vars_index, lmp_i.index)\n",
    "\n",
    "A_ = DataFrame.sparse.from_spmatrix(A[:, B], vars_index, cons_index[B])\n",
    "A = DataFrame.sparse.from_spmatrix(A, vars_index, cons_index)\n",
    "A_inv = DataFrame.sparse.from_spmatrix(A_inv, vars_index, cons_index[B])\n",
    "c = Series(c, vars_index)\n",
    "x = Series(x, vars_index)\n",
    "d = Series(d[B], cons_index[B])\n",
    "m = Series(m[B], cons_index[B])"
   ]
  },
  {
   "cell_type": "markdown",
   "metadata": {},
   "source": [
    "# Full cost allocation \n",
    "\n",
    "The basis of the cost allocation is ${A'}^{-1}$. It connects binding constraint to the variables\n",
    "\n",
    "$x_i = \\sum_j {A'}^{-1}_{i,j} \\, d_j$\n",
    "\n",
    "If ${A'}^{-1}_{i,j}$ is positive, $d_j$ has a positive effect on $x_i$. If negative, $d_j$ pushes $x_i$ down. "
   ]
  },
  {
   "cell_type": "code",
   "execution_count": 243,
   "metadata": {},
   "outputs": [
    {
     "data": {
      "text/html": [
       "<div>\n",
       "<style scoped>\n",
       "    .dataframe tbody tr th:only-of-type {\n",
       "        vertical-align: middle;\n",
       "    }\n",
       "\n",
       "    .dataframe tbody tr th {\n",
       "        vertical-align: top;\n",
       "    }\n",
       "\n",
       "    .dataframe thead tr th {\n",
       "        text-align: left;\n",
       "    }\n",
       "\n",
       "    .dataframe thead tr:last-of-type th {\n",
       "        text-align: right;\n",
       "    }\n",
       "</style>\n",
       "<table border=\"1\" class=\"dataframe\">\n",
       "  <thead>\n",
       "    <tr>\n",
       "      <th></th>\n",
       "      <th></th>\n",
       "      <th></th>\n",
       "      <th>component</th>\n",
       "      <th colspan=\"3\" halign=\"left\">Generator</th>\n",
       "      <th>Bus</th>\n",
       "    </tr>\n",
       "    <tr>\n",
       "      <th></th>\n",
       "      <th></th>\n",
       "      <th></th>\n",
       "      <th>name</th>\n",
       "      <th>mu_nom_lower</th>\n",
       "      <th colspan=\"2\" halign=\"left\">mu_upper</th>\n",
       "      <th>marginal_price</th>\n",
       "    </tr>\n",
       "    <tr>\n",
       "      <th></th>\n",
       "      <th></th>\n",
       "      <th></th>\n",
       "      <th>component_i</th>\n",
       "      <th>Gen0</th>\n",
       "      <th>Gen0</th>\n",
       "      <th>Gen1</th>\n",
       "      <th>Bus1</th>\n",
       "    </tr>\n",
       "    <tr>\n",
       "      <th></th>\n",
       "      <th></th>\n",
       "      <th></th>\n",
       "      <th>snapshot</th>\n",
       "      <th>static</th>\n",
       "      <th>0</th>\n",
       "      <th>0</th>\n",
       "      <th>0</th>\n",
       "    </tr>\n",
       "    <tr>\n",
       "      <th>component</th>\n",
       "      <th>name</th>\n",
       "      <th>component_i</th>\n",
       "      <th>snapshot</th>\n",
       "      <th></th>\n",
       "      <th></th>\n",
       "      <th></th>\n",
       "      <th></th>\n",
       "    </tr>\n",
       "  </thead>\n",
       "  <tbody>\n",
       "    <tr>\n",
       "      <th rowspan=\"4\" valign=\"top\">Generator</th>\n",
       "      <th rowspan=\"2\" valign=\"top\">p</th>\n",
       "      <th>Gen0</th>\n",
       "      <th>0</th>\n",
       "      <td>0.006005</td>\n",
       "      <td>-0.0</td>\n",
       "      <td>0.0</td>\n",
       "      <td>0.000000</td>\n",
       "    </tr>\n",
       "    <tr>\n",
       "      <th>Gen1</th>\n",
       "      <th>0</th>\n",
       "      <td>-0.006005</td>\n",
       "      <td>0.0</td>\n",
       "      <td>0.0</td>\n",
       "      <td>50.000000</td>\n",
       "    </tr>\n",
       "    <tr>\n",
       "      <th rowspan=\"2\" valign=\"top\">p_nom</th>\n",
       "      <th>Gen0</th>\n",
       "      <th>static</th>\n",
       "      <td>0.005993</td>\n",
       "      <td>0.0</td>\n",
       "      <td>0.0</td>\n",
       "      <td>0.000000</td>\n",
       "    </tr>\n",
       "    <tr>\n",
       "      <th>Gen1</th>\n",
       "      <th>static</th>\n",
       "      <td>-0.005952</td>\n",
       "      <td>0.0</td>\n",
       "      <td>0.0</td>\n",
       "      <td>49.553375</td>\n",
       "    </tr>\n",
       "  </tbody>\n",
       "</table>\n",
       "</div>"
      ],
      "text/plain": [
       "component                               Generator                          Bus\n",
       "name                                 mu_nom_lower mu_upper      marginal_price\n",
       "component_i                                  Gen0     Gen0 Gen1           Bus1\n",
       "snapshot                                   static        0    0              0\n",
       "component name  component_i snapshot                                          \n",
       "Generator p     Gen0        0            0.006005     -0.0  0.0       0.000000\n",
       "                Gen1        0           -0.006005      0.0  0.0      50.000000\n",
       "          p_nom Gen0        static       0.005993      0.0  0.0       0.000000\n",
       "                Gen1        static      -0.005952      0.0  0.0      49.553375"
      ]
     },
     "execution_count": 243,
     "metadata": {},
     "output_type": "execute_result"
    }
   ],
   "source": [
    "A_inv * d"
   ]
  },
  {
   "cell_type": "markdown",
   "metadata": {},
   "source": [
    "The same counts for the cost of the variables $C_{i,j}$ defined as  \n",
    "\n",
    "$C_{ij} = {A'}^{-1}_{ij} \\, c_i \\, d_j$\n",
    "\n",
    "If $C_{i,j}$ is positive, constraint $j$ pushes expences for variables $i$, if negative it lowers them. "
   ]
  },
  {
   "cell_type": "code",
   "execution_count": 225,
   "metadata": {},
   "outputs": [
    {
     "data": {
      "text/html": [
       "<div>\n",
       "<style scoped>\n",
       "    .dataframe tbody tr th:only-of-type {\n",
       "        vertical-align: middle;\n",
       "    }\n",
       "\n",
       "    .dataframe tbody tr th {\n",
       "        vertical-align: top;\n",
       "    }\n",
       "\n",
       "    .dataframe thead tr th {\n",
       "        text-align: left;\n",
       "    }\n",
       "\n",
       "    .dataframe thead tr:last-of-type th {\n",
       "        text-align: right;\n",
       "    }\n",
       "</style>\n",
       "<table border=\"1\" class=\"dataframe\">\n",
       "  <thead>\n",
       "    <tr>\n",
       "      <th></th>\n",
       "      <th></th>\n",
       "      <th></th>\n",
       "      <th>component</th>\n",
       "      <th colspan=\"3\" halign=\"left\">Generator</th>\n",
       "      <th>Bus</th>\n",
       "    </tr>\n",
       "    <tr>\n",
       "      <th></th>\n",
       "      <th></th>\n",
       "      <th></th>\n",
       "      <th>name</th>\n",
       "      <th>mu_nom_lower</th>\n",
       "      <th colspan=\"2\" halign=\"left\">mu_upper</th>\n",
       "      <th>marginal_price</th>\n",
       "    </tr>\n",
       "    <tr>\n",
       "      <th></th>\n",
       "      <th></th>\n",
       "      <th></th>\n",
       "      <th>component_i</th>\n",
       "      <th>Gen1</th>\n",
       "      <th>Gen0</th>\n",
       "      <th>Gen1</th>\n",
       "      <th>Bus1</th>\n",
       "    </tr>\n",
       "    <tr>\n",
       "      <th></th>\n",
       "      <th></th>\n",
       "      <th></th>\n",
       "      <th>snapshot</th>\n",
       "      <th>static</th>\n",
       "      <th>now</th>\n",
       "      <th>now</th>\n",
       "      <th>now</th>\n",
       "    </tr>\n",
       "    <tr>\n",
       "      <th>component</th>\n",
       "      <th>name</th>\n",
       "      <th>component_i</th>\n",
       "      <th>snapshot</th>\n",
       "      <th></th>\n",
       "      <th></th>\n",
       "      <th></th>\n",
       "      <th></th>\n",
       "    </tr>\n",
       "  </thead>\n",
       "  <tbody>\n",
       "    <tr>\n",
       "      <th rowspan=\"4\" valign=\"top\">Generator</th>\n",
       "      <th rowspan=\"2\" valign=\"top\">p</th>\n",
       "      <th>Gen0</th>\n",
       "      <th>now</th>\n",
       "      <td>-0.161352</td>\n",
       "      <td>0.0</td>\n",
       "      <td>0.0</td>\n",
       "      <td>4160.000000</td>\n",
       "    </tr>\n",
       "    <tr>\n",
       "      <th>Gen1</th>\n",
       "      <th>now</th>\n",
       "      <td>0.313395</td>\n",
       "      <td>0.0</td>\n",
       "      <td>-0.0</td>\n",
       "      <td>0.000000</td>\n",
       "    </tr>\n",
       "    <tr>\n",
       "      <th rowspan=\"2\" valign=\"top\">p_nom</th>\n",
       "      <th>Gen0</th>\n",
       "      <th>static</th>\n",
       "      <td>-3.279306</td>\n",
       "      <td>0.0</td>\n",
       "      <td>0.0</td>\n",
       "      <td>84547.456747</td>\n",
       "    </tr>\n",
       "    <tr>\n",
       "      <th>Gen1</th>\n",
       "      <th>static</th>\n",
       "      <td>3.231900</td>\n",
       "      <td>0.0</td>\n",
       "      <td>0.0</td>\n",
       "      <td>0.000000</td>\n",
       "    </tr>\n",
       "  </tbody>\n",
       "</table>\n",
       "</div>"
      ],
      "text/plain": [
       "component                               Generator                          Bus\n",
       "name                                 mu_nom_lower mu_upper      marginal_price\n",
       "component_i                                  Gen1     Gen0 Gen1           Bus1\n",
       "snapshot                                   static      now  now            now\n",
       "component name  component_i snapshot                                          \n",
       "Generator p     Gen0        now         -0.161352      0.0  0.0    4160.000000\n",
       "                Gen1        now          0.313395      0.0 -0.0       0.000000\n",
       "          p_nom Gen0        static      -3.279306      0.0  0.0   84547.456747\n",
       "                Gen1        static       3.231900      0.0  0.0       0.000000"
      ]
     },
     "execution_count": 225,
     "metadata": {},
     "output_type": "execute_result"
    }
   ],
   "source": [
    "C = (A_inv * d).mul(c, 0)\n",
    "C"
   ]
  },
  {
   "cell_type": "code",
   "execution_count": 226,
   "metadata": {},
   "outputs": [
    {
     "data": {
      "text/plain": [
       "88707.56138415824"
      ]
     },
     "execution_count": 226,
     "metadata": {},
     "output_type": "execute_result"
    }
   ],
   "source": [
    "assert n.objective ==  C.sum().sum()\n",
    "n.objective"
   ]
  },
  {
   "cell_type": "code",
   "execution_count": 227,
   "metadata": {},
   "outputs": [
    {
     "data": {
      "text/plain": [
       "component  name            component_i  snapshot\n",
       "Generator  mu_nom_lower    Gen1         static          0.104637\n",
       "           mu_upper        Gen0         now             0.000000\n",
       "                           Gen1         now             0.000000\n",
       "Bus        marginal_price  Bus1         now         88707.456747\n",
       "dtype: float64"
      ]
     },
     "execution_count": 227,
     "metadata": {},
     "output_type": "execute_result"
    }
   ],
   "source": [
    "C.sum()"
   ]
  },
  {
   "cell_type": "code",
   "execution_count": 228,
   "metadata": {},
   "outputs": [
    {
     "data": {
      "text/plain": [
       "component  name   component_i  snapshot\n",
       "Generator  p      Gen0         now          4159.838648\n",
       "                  Gen1         now             0.313395\n",
       "           p_nom  Gen0         static      84544.177441\n",
       "                  Gen1         static          3.231900\n",
       "dtype: float64"
      ]
     },
     "execution_count": 228,
     "metadata": {},
     "output_type": "execute_result"
    }
   ],
   "source": [
    "C.sum(1)"
   ]
  },
  {
   "cell_type": "markdown",
   "metadata": {},
   "source": [
    "### Other direction\n",
    "\n",
    "The matrix $A'_{i,j}$ connects to the variables their binding constraints\n",
    "\n",
    "$\\sum_i x_i \\, A'_{i,j} = d_j$\n"
   ]
  },
  {
   "cell_type": "code",
   "execution_count": 229,
   "metadata": {},
   "outputs": [
    {
     "data": {
      "text/html": [
       "<div>\n",
       "<style scoped>\n",
       "    .dataframe tbody tr th:only-of-type {\n",
       "        vertical-align: middle;\n",
       "    }\n",
       "\n",
       "    .dataframe tbody tr th {\n",
       "        vertical-align: top;\n",
       "    }\n",
       "\n",
       "    .dataframe thead tr th {\n",
       "        text-align: left;\n",
       "    }\n",
       "\n",
       "    .dataframe thead tr:last-of-type th {\n",
       "        text-align: right;\n",
       "    }\n",
       "</style>\n",
       "<table border=\"1\" class=\"dataframe\">\n",
       "  <thead>\n",
       "    <tr>\n",
       "      <th></th>\n",
       "      <th></th>\n",
       "      <th></th>\n",
       "      <th>component</th>\n",
       "      <th colspan=\"3\" halign=\"left\">Generator</th>\n",
       "      <th>Bus</th>\n",
       "    </tr>\n",
       "    <tr>\n",
       "      <th></th>\n",
       "      <th></th>\n",
       "      <th></th>\n",
       "      <th>name</th>\n",
       "      <th>mu_nom_lower</th>\n",
       "      <th colspan=\"2\" halign=\"left\">mu_upper</th>\n",
       "      <th>marginal_price</th>\n",
       "    </tr>\n",
       "    <tr>\n",
       "      <th></th>\n",
       "      <th></th>\n",
       "      <th></th>\n",
       "      <th>component_i</th>\n",
       "      <th>Gen1</th>\n",
       "      <th>Gen0</th>\n",
       "      <th>Gen1</th>\n",
       "      <th>Bus1</th>\n",
       "    </tr>\n",
       "    <tr>\n",
       "      <th></th>\n",
       "      <th></th>\n",
       "      <th></th>\n",
       "      <th>snapshot</th>\n",
       "      <th>static</th>\n",
       "      <th>now</th>\n",
       "      <th>now</th>\n",
       "      <th>now</th>\n",
       "    </tr>\n",
       "    <tr>\n",
       "      <th>component</th>\n",
       "      <th>name</th>\n",
       "      <th>component_i</th>\n",
       "      <th>snapshot</th>\n",
       "      <th></th>\n",
       "      <th></th>\n",
       "      <th></th>\n",
       "      <th></th>\n",
       "    </tr>\n",
       "  </thead>\n",
       "  <tbody>\n",
       "    <tr>\n",
       "      <th rowspan=\"4\" valign=\"top\">Generator</th>\n",
       "      <th rowspan=\"2\" valign=\"top\">p</th>\n",
       "      <th>Gen0</th>\n",
       "      <th>now</th>\n",
       "      <td>0.000000</td>\n",
       "      <td>-79.996897</td>\n",
       "      <td>0.000000</td>\n",
       "      <td>79.996897</td>\n",
       "    </tr>\n",
       "    <tr>\n",
       "      <th>Gen1</th>\n",
       "      <th>now</th>\n",
       "      <td>0.000000</td>\n",
       "      <td>0.000000</td>\n",
       "      <td>-0.003103</td>\n",
       "      <td>0.003103</td>\n",
       "    </tr>\n",
       "    <tr>\n",
       "      <th rowspan=\"2\" valign=\"top\">p_nom</th>\n",
       "      <th>Gen0</th>\n",
       "      <th>static</th>\n",
       "      <td>0.000000</td>\n",
       "      <td>79.996897</td>\n",
       "      <td>0.000000</td>\n",
       "      <td>0.000000</td>\n",
       "    </tr>\n",
       "    <tr>\n",
       "      <th>Gen1</th>\n",
       "      <th>static</th>\n",
       "      <td>0.003078</td>\n",
       "      <td>0.000000</td>\n",
       "      <td>0.003103</td>\n",
       "      <td>0.000000</td>\n",
       "    </tr>\n",
       "  </tbody>\n",
       "</table>\n",
       "</div>"
      ],
      "text/plain": [
       "component                               Generator                       \\\n",
       "name                                 mu_nom_lower   mu_upper             \n",
       "component_i                                  Gen1       Gen0      Gen1   \n",
       "snapshot                                   static        now       now   \n",
       "component name  component_i snapshot                                     \n",
       "Generator p     Gen0        now          0.000000 -79.996897  0.000000   \n",
       "                Gen1        now          0.000000   0.000000 -0.003103   \n",
       "          p_nom Gen0        static       0.000000  79.996897  0.000000   \n",
       "                Gen1        static       0.003078   0.000000  0.003103   \n",
       "\n",
       "component                                       Bus  \n",
       "name                                 marginal_price  \n",
       "component_i                                    Bus1  \n",
       "snapshot                                        now  \n",
       "component name  component_i snapshot                 \n",
       "Generator p     Gen0        now           79.996897  \n",
       "                Gen1        now            0.003103  \n",
       "          p_nom Gen0        static         0.000000  \n",
       "                Gen1        static         0.000000  "
      ]
     },
     "execution_count": 229,
     "metadata": {},
     "output_type": "execute_result"
    }
   ],
   "source": [
    "A_.mul(x, 0)"
   ]
  },
  {
   "cell_type": "code",
   "execution_count": 230,
   "metadata": {},
   "outputs": [
    {
     "data": {
      "text/html": [
       "<div>\n",
       "<style scoped>\n",
       "    .dataframe tbody tr th:only-of-type {\n",
       "        vertical-align: middle;\n",
       "    }\n",
       "\n",
       "    .dataframe tbody tr th {\n",
       "        vertical-align: top;\n",
       "    }\n",
       "\n",
       "    .dataframe thead tr th {\n",
       "        text-align: left;\n",
       "    }\n",
       "\n",
       "    .dataframe thead tr:last-of-type th {\n",
       "        text-align: right;\n",
       "    }\n",
       "</style>\n",
       "<table border=\"1\" class=\"dataframe\">\n",
       "  <thead>\n",
       "    <tr>\n",
       "      <th></th>\n",
       "      <th></th>\n",
       "      <th></th>\n",
       "      <th>component</th>\n",
       "      <th colspan=\"3\" halign=\"left\">Generator</th>\n",
       "      <th>Bus</th>\n",
       "    </tr>\n",
       "    <tr>\n",
       "      <th></th>\n",
       "      <th></th>\n",
       "      <th></th>\n",
       "      <th>name</th>\n",
       "      <th>mu_nom_lower</th>\n",
       "      <th colspan=\"2\" halign=\"left\">mu_upper</th>\n",
       "      <th>marginal_price</th>\n",
       "    </tr>\n",
       "    <tr>\n",
       "      <th></th>\n",
       "      <th></th>\n",
       "      <th></th>\n",
       "      <th>component_i</th>\n",
       "      <th>Gen1</th>\n",
       "      <th>Gen0</th>\n",
       "      <th>Gen1</th>\n",
       "      <th>Bus1</th>\n",
       "    </tr>\n",
       "    <tr>\n",
       "      <th></th>\n",
       "      <th></th>\n",
       "      <th></th>\n",
       "      <th>snapshot</th>\n",
       "      <th>static</th>\n",
       "      <th>now</th>\n",
       "      <th>now</th>\n",
       "      <th>now</th>\n",
       "    </tr>\n",
       "    <tr>\n",
       "      <th>component</th>\n",
       "      <th>name</th>\n",
       "      <th>component_i</th>\n",
       "      <th>snapshot</th>\n",
       "      <th></th>\n",
       "      <th></th>\n",
       "      <th></th>\n",
       "      <th></th>\n",
       "    </tr>\n",
       "  </thead>\n",
       "  <tbody>\n",
       "    <tr>\n",
       "      <th rowspan=\"4\" valign=\"top\">Generator</th>\n",
       "      <th rowspan=\"2\" valign=\"top\">p</th>\n",
       "      <th>Gen0</th>\n",
       "      <th>now</th>\n",
       "      <td>0.000000</td>\n",
       "      <td>-84544.177441</td>\n",
       "      <td>0.000000</td>\n",
       "      <td>88704.016089</td>\n",
       "    </tr>\n",
       "    <tr>\n",
       "      <th>Gen1</th>\n",
       "      <th>now</th>\n",
       "      <td>0.000000</td>\n",
       "      <td>0.000000</td>\n",
       "      <td>-3.127263</td>\n",
       "      <td>3.440658</td>\n",
       "    </tr>\n",
       "    <tr>\n",
       "      <th rowspan=\"2\" valign=\"top\">p_nom</th>\n",
       "      <th>Gen0</th>\n",
       "      <th>static</th>\n",
       "      <td>0.000000</td>\n",
       "      <td>84544.177441</td>\n",
       "      <td>0.000000</td>\n",
       "      <td>0.000000</td>\n",
       "    </tr>\n",
       "    <tr>\n",
       "      <th>Gen1</th>\n",
       "      <th>static</th>\n",
       "      <td>0.104637</td>\n",
       "      <td>0.000000</td>\n",
       "      <td>3.127263</td>\n",
       "      <td>0.000000</td>\n",
       "    </tr>\n",
       "  </tbody>\n",
       "</table>\n",
       "</div>"
      ],
      "text/plain": [
       "component                               Generator                          \\\n",
       "name                                 mu_nom_lower      mu_upper             \n",
       "component_i                                  Gen1          Gen0      Gen1   \n",
       "snapshot                                   static           now       now   \n",
       "component name  component_i snapshot                                        \n",
       "Generator p     Gen0        now          0.000000 -84544.177441  0.000000   \n",
       "                Gen1        now          0.000000      0.000000 -3.127263   \n",
       "          p_nom Gen0        static       0.000000  84544.177441  0.000000   \n",
       "                Gen1        static       0.104637      0.000000  3.127263   \n",
       "\n",
       "component                                       Bus  \n",
       "name                                 marginal_price  \n",
       "component_i                                    Bus1  \n",
       "snapshot                                        now  \n",
       "component name  component_i snapshot                 \n",
       "Generator p     Gen0        now        88704.016089  \n",
       "                Gen1        now            3.440658  \n",
       "          p_nom Gen0        static         0.000000  \n",
       "                Gen1        static         0.000000  "
      ]
     },
     "execution_count": 230,
     "metadata": {},
     "output_type": "execute_result"
    }
   ],
   "source": [
    "D = (A_ * m).mul(x, 0) \n",
    "D"
   ]
  },
  {
   "cell_type": "code",
   "execution_count": 234,
   "metadata": {},
   "outputs": [
    {
     "data": {
      "text/plain": [
       "88707.56138415824"
      ]
     },
     "execution_count": 234,
     "metadata": {},
     "output_type": "execute_result"
    }
   ],
   "source": [
    "assert round(n.objective, 5) ==  round(D.sum().sum(), 5)\n",
    "n.objective"
   ]
  },
  {
   "cell_type": "code",
   "execution_count": 218,
   "metadata": {},
   "outputs": [
    {
     "data": {
      "text/plain": [
       "now    92021.744429\n",
       "dtype: float64"
      ]
     },
     "execution_count": 218,
     "metadata": {},
     "output_type": "execute_result"
    }
   ],
   "source": [
    "n.loads_t.p['0'] * n.buses_t.marginal_price['Bus1']"
   ]
  },
  {
   "cell_type": "markdown",
   "metadata": {},
   "source": [
    "## Now the Problem:\n",
    "\n",
    "Take the second example.\n",
    "\n",
    "Both generators produce power:"
   ]
  },
  {
   "cell_type": "code",
   "execution_count": 136,
   "metadata": {},
   "outputs": [
    {
     "data": {
      "text/html": [
       "<div>\n",
       "<style scoped>\n",
       "    .dataframe tbody tr th:only-of-type {\n",
       "        vertical-align: middle;\n",
       "    }\n",
       "\n",
       "    .dataframe tbody tr th {\n",
       "        vertical-align: top;\n",
       "    }\n",
       "\n",
       "    .dataframe thead th {\n",
       "        text-align: right;\n",
       "    }\n",
       "</style>\n",
       "<table border=\"1\" class=\"dataframe\">\n",
       "  <thead>\n",
       "    <tr style=\"text-align: right;\">\n",
       "      <th></th>\n",
       "      <th>Gen0</th>\n",
       "      <th>Gen1</th>\n",
       "    </tr>\n",
       "  </thead>\n",
       "  <tbody>\n",
       "    <tr>\n",
       "      <th>now</th>\n",
       "      <td>40.346677</td>\n",
       "      <td>19.653323</td>\n",
       "    </tr>\n",
       "  </tbody>\n",
       "</table>\n",
       "</div>"
      ],
      "text/plain": [
       "          Gen0       Gen1\n",
       "now  40.346677  19.653323"
      ]
     },
     "execution_count": 136,
     "metadata": {},
     "output_type": "execute_result"
    }
   ],
   "source": [
    "n.generators_t.p"
   ]
  },
  {
   "cell_type": "markdown",
   "metadata": {},
   "source": [
    "Their OPEX is:"
   ]
  },
  {
   "cell_type": "code",
   "execution_count": 137,
   "metadata": {},
   "outputs": [
    {
     "data": {
      "text/html": [
       "<div>\n",
       "<style scoped>\n",
       "    .dataframe tbody tr th:only-of-type {\n",
       "        vertical-align: middle;\n",
       "    }\n",
       "\n",
       "    .dataframe tbody tr th {\n",
       "        vertical-align: top;\n",
       "    }\n",
       "\n",
       "    .dataframe thead th {\n",
       "        text-align: right;\n",
       "    }\n",
       "</style>\n",
       "<table border=\"1\" class=\"dataframe\">\n",
       "  <thead>\n",
       "    <tr style=\"text-align: right;\">\n",
       "      <th></th>\n",
       "      <th>Gen0</th>\n",
       "      <th>Gen1</th>\n",
       "    </tr>\n",
       "  </thead>\n",
       "  <tbody>\n",
       "    <tr>\n",
       "      <th>now</th>\n",
       "      <td>2098.027182</td>\n",
       "      <td>1984.985666</td>\n",
       "    </tr>\n",
       "  </tbody>\n",
       "</table>\n",
       "</div>"
      ],
      "text/plain": [
       "            Gen0         Gen1\n",
       "now  2098.027182  1984.985666"
      ]
     },
     "execution_count": 137,
     "metadata": {},
     "output_type": "execute_result"
    }
   ],
   "source": [
    "n.generators_t.p * n.generators.marginal_cost"
   ]
  },
  {
   "cell_type": "markdown",
   "metadata": {},
   "source": [
    "The factors $D_{i, (n,t)} = {A'}^{-1}_{i,(n,t)}$ however only consider Gen1 which determines the lmp $\\lambda = o_1$"
   ]
  },
  {
   "cell_type": "code",
   "execution_count": 138,
   "metadata": {},
   "outputs": [
    {
     "data": {
      "text/html": [
       "<div>\n",
       "<style scoped>\n",
       "    .dataframe tbody tr th:only-of-type {\n",
       "        vertical-align: middle;\n",
       "    }\n",
       "\n",
       "    .dataframe tbody tr th {\n",
       "        vertical-align: top;\n",
       "    }\n",
       "\n",
       "    .dataframe thead tr th {\n",
       "        text-align: left;\n",
       "    }\n",
       "\n",
       "    .dataframe thead tr:last-of-type th {\n",
       "        text-align: right;\n",
       "    }\n",
       "</style>\n",
       "<table border=\"1\" class=\"dataframe\">\n",
       "  <thead>\n",
       "    <tr>\n",
       "      <th></th>\n",
       "      <th></th>\n",
       "      <th></th>\n",
       "      <th>Bus</th>\n",
       "      <th>Bus1</th>\n",
       "    </tr>\n",
       "    <tr>\n",
       "      <th></th>\n",
       "      <th></th>\n",
       "      <th></th>\n",
       "      <th>snapshot</th>\n",
       "      <th>now</th>\n",
       "    </tr>\n",
       "    <tr>\n",
       "      <th>component</th>\n",
       "      <th>name</th>\n",
       "      <th>component_i</th>\n",
       "      <th>snapshot</th>\n",
       "      <th></th>\n",
       "    </tr>\n",
       "  </thead>\n",
       "  <tbody>\n",
       "    <tr>\n",
       "      <th rowspan=\"4\" valign=\"top\">Generator</th>\n",
       "      <th rowspan=\"2\" valign=\"top\">p</th>\n",
       "      <th>Gen0</th>\n",
       "      <th>now</th>\n",
       "      <td>0.000000</td>\n",
       "    </tr>\n",
       "    <tr>\n",
       "      <th>Gen1</th>\n",
       "      <th>now</th>\n",
       "      <td>1.000000</td>\n",
       "    </tr>\n",
       "    <tr>\n",
       "      <th rowspan=\"2\" valign=\"top\">p_nom</th>\n",
       "      <th>Gen0</th>\n",
       "      <th>static</th>\n",
       "      <td>0.000000</td>\n",
       "    </tr>\n",
       "    <tr>\n",
       "      <th>Gen1</th>\n",
       "      <th>static</th>\n",
       "      <td>0.998462</td>\n",
       "    </tr>\n",
       "  </tbody>\n",
       "</table>\n",
       "</div>"
      ],
      "text/plain": [
       "Bus                                       Bus1\n",
       "snapshot                                   now\n",
       "component name  component_i snapshot          \n",
       "Generator p     Gen0        now       0.000000\n",
       "                Gen1        now       1.000000\n",
       "          p_nom Gen0        static    0.000000\n",
       "                Gen1        static    0.998462"
      ]
     },
     "execution_count": 138,
     "metadata": {},
     "output_type": "execute_result"
    }
   ],
   "source": [
    "D"
   ]
  },
  {
   "cell_type": "code",
   "execution_count": 139,
   "metadata": {},
   "outputs": [
    {
     "data": {
      "text/html": [
       "<div>\n",
       "<style scoped>\n",
       "    .dataframe tbody tr th:only-of-type {\n",
       "        vertical-align: middle;\n",
       "    }\n",
       "\n",
       "    .dataframe tbody tr th {\n",
       "        vertical-align: top;\n",
       "    }\n",
       "\n",
       "    .dataframe thead th {\n",
       "        text-align: right;\n",
       "    }\n",
       "</style>\n",
       "<table border=\"1\" class=\"dataframe\">\n",
       "  <thead>\n",
       "    <tr style=\"text-align: right;\">\n",
       "      <th></th>\n",
       "      <th>marginal_cost</th>\n",
       "    </tr>\n",
       "  </thead>\n",
       "  <tbody>\n",
       "    <tr>\n",
       "      <th>Gen0</th>\n",
       "      <td>52.0</td>\n",
       "    </tr>\n",
       "    <tr>\n",
       "      <th>Gen1</th>\n",
       "      <td>101.0</td>\n",
       "    </tr>\n",
       "  </tbody>\n",
       "</table>\n",
       "</div>"
      ],
      "text/plain": [
       "      marginal_cost\n",
       "Gen0           52.0\n",
       "Gen1          101.0"
      ]
     },
     "execution_count": 139,
     "metadata": {},
     "output_type": "execute_result"
    }
   ],
   "source": [
    "n.generators.marginal_cost.to_frame()"
   ]
  },
  {
   "cell_type": "code",
   "execution_count": 140,
   "metadata": {},
   "outputs": [
    {
     "data": {
      "text/html": [
       "<div>\n",
       "<style scoped>\n",
       "    .dataframe tbody tr th:only-of-type {\n",
       "        vertical-align: middle;\n",
       "    }\n",
       "\n",
       "    .dataframe tbody tr th {\n",
       "        vertical-align: top;\n",
       "    }\n",
       "\n",
       "    .dataframe thead th {\n",
       "        text-align: right;\n",
       "    }\n",
       "</style>\n",
       "<table border=\"1\" class=\"dataframe\">\n",
       "  <thead>\n",
       "    <tr style=\"text-align: right;\">\n",
       "      <th></th>\n",
       "      <th>Bus1</th>\n",
       "    </tr>\n",
       "  </thead>\n",
       "  <tbody>\n",
       "    <tr>\n",
       "      <th>now</th>\n",
       "      <td>1149.385486</td>\n",
       "    </tr>\n",
       "  </tbody>\n",
       "</table>\n",
       "</div>"
      ],
      "text/plain": [
       "            Bus1\n",
       "now  1149.385486"
      ]
     },
     "execution_count": 140,
     "metadata": {},
     "output_type": "execute_result"
    }
   ],
   "source": [
    "n.buses_t.marginal_price"
   ]
  },
  {
   "cell_type": "markdown",
   "metadata": {},
   "source": [
    "The factors $r_{i,(n,t)}$ give the power consumption at $(n,t)$ who's price is determined by variable $i$. "
   ]
  },
  {
   "cell_type": "code",
   "execution_count": 141,
   "metadata": {},
   "outputs": [
    {
     "data": {
      "text/html": [
       "<div>\n",
       "<style scoped>\n",
       "    .dataframe tbody tr th:only-of-type {\n",
       "        vertical-align: middle;\n",
       "    }\n",
       "\n",
       "    .dataframe tbody tr th {\n",
       "        vertical-align: top;\n",
       "    }\n",
       "\n",
       "    .dataframe thead tr th {\n",
       "        text-align: left;\n",
       "    }\n",
       "\n",
       "    .dataframe thead tr:last-of-type th {\n",
       "        text-align: right;\n",
       "    }\n",
       "</style>\n",
       "<table border=\"1\" class=\"dataframe\">\n",
       "  <thead>\n",
       "    <tr>\n",
       "      <th></th>\n",
       "      <th></th>\n",
       "      <th></th>\n",
       "      <th>Bus</th>\n",
       "      <th>Bus1</th>\n",
       "    </tr>\n",
       "    <tr>\n",
       "      <th></th>\n",
       "      <th></th>\n",
       "      <th></th>\n",
       "      <th>snapshot</th>\n",
       "      <th>now</th>\n",
       "    </tr>\n",
       "    <tr>\n",
       "      <th>component</th>\n",
       "      <th>name</th>\n",
       "      <th>component_i</th>\n",
       "      <th>snapshot</th>\n",
       "      <th></th>\n",
       "    </tr>\n",
       "  </thead>\n",
       "  <tbody>\n",
       "    <tr>\n",
       "      <th rowspan=\"4\" valign=\"top\">Generator</th>\n",
       "      <th rowspan=\"2\" valign=\"top\">p</th>\n",
       "      <th>Gen0</th>\n",
       "      <th>now</th>\n",
       "      <td>0.000000</td>\n",
       "    </tr>\n",
       "    <tr>\n",
       "      <th>Gen1</th>\n",
       "      <th>now</th>\n",
       "      <td>60.000000</td>\n",
       "    </tr>\n",
       "    <tr>\n",
       "      <th rowspan=\"2\" valign=\"top\">p_nom</th>\n",
       "      <th>Gen0</th>\n",
       "      <th>static</th>\n",
       "      <td>0.000000</td>\n",
       "    </tr>\n",
       "    <tr>\n",
       "      <th>Gen1</th>\n",
       "      <th>static</th>\n",
       "      <td>59.907742</td>\n",
       "    </tr>\n",
       "  </tbody>\n",
       "</table>\n",
       "</div>"
      ],
      "text/plain": [
       "Bus                                        Bus1\n",
       "snapshot                                    now\n",
       "component name  component_i snapshot           \n",
       "Generator p     Gen0        now        0.000000\n",
       "                Gen1        now       60.000000\n",
       "          p_nom Gen0        static     0.000000\n",
       "                Gen1        static    59.907742"
      ]
     },
     "execution_count": 141,
     "metadata": {},
     "output_type": "execute_result"
    }
   ],
   "source": [
    "r"
   ]
  },
  {
   "cell_type": "markdown",
   "metadata": {},
   "source": [
    "The product of the allocated power and the price of the variable $r_{i,(n,t)}\\, c_i$ should give the allocated payment we are searching for, *i.e.* the cost that demand $(n,t)$ has to pay to variable $i$, let's denote it as \n",
    "\n",
    "$C_{(n,t)\\rightarrow i} = r_{i,(n,t)}\\, c_i$"
   ]
  },
  {
   "cell_type": "code",
   "execution_count": 142,
   "metadata": {},
   "outputs": [
    {
     "data": {
      "text/html": [
       "<div>\n",
       "<style scoped>\n",
       "    .dataframe tbody tr th:only-of-type {\n",
       "        vertical-align: middle;\n",
       "    }\n",
       "\n",
       "    .dataframe tbody tr th {\n",
       "        vertical-align: top;\n",
       "    }\n",
       "\n",
       "    .dataframe thead tr th {\n",
       "        text-align: left;\n",
       "    }\n",
       "\n",
       "    .dataframe thead tr:last-of-type th {\n",
       "        text-align: right;\n",
       "    }\n",
       "</style>\n",
       "<table border=\"1\" class=\"dataframe\">\n",
       "  <thead>\n",
       "    <tr>\n",
       "      <th></th>\n",
       "      <th></th>\n",
       "      <th></th>\n",
       "      <th>Bus</th>\n",
       "      <th>Bus1</th>\n",
       "    </tr>\n",
       "    <tr>\n",
       "      <th></th>\n",
       "      <th></th>\n",
       "      <th></th>\n",
       "      <th>snapshot</th>\n",
       "      <th>now</th>\n",
       "    </tr>\n",
       "    <tr>\n",
       "      <th>component</th>\n",
       "      <th>name</th>\n",
       "      <th>component_i</th>\n",
       "      <th>snapshot</th>\n",
       "      <th></th>\n",
       "    </tr>\n",
       "  </thead>\n",
       "  <tbody>\n",
       "    <tr>\n",
       "      <th rowspan=\"4\" valign=\"top\">Generator</th>\n",
       "      <th rowspan=\"2\" valign=\"top\">p</th>\n",
       "      <th>Gen0</th>\n",
       "      <th>now</th>\n",
       "      <td>0.000000</td>\n",
       "    </tr>\n",
       "    <tr>\n",
       "      <th>Gen1</th>\n",
       "      <th>now</th>\n",
       "      <td>6060.000000</td>\n",
       "    </tr>\n",
       "    <tr>\n",
       "      <th rowspan=\"2\" valign=\"top\">p_nom</th>\n",
       "      <th>Gen0</th>\n",
       "      <th>static</th>\n",
       "      <td>0.000000</td>\n",
       "    </tr>\n",
       "    <tr>\n",
       "      <th>Gen1</th>\n",
       "      <th>static</th>\n",
       "      <td>62903.129181</td>\n",
       "    </tr>\n",
       "  </tbody>\n",
       "</table>\n",
       "</div>"
      ],
      "text/plain": [
       "Bus                                           Bus1\n",
       "snapshot                                       now\n",
       "component name  component_i snapshot              \n",
       "Generator p     Gen0        now           0.000000\n",
       "                Gen1        now        6060.000000\n",
       "          p_nom Gen0        static        0.000000\n",
       "                Gen1        static    62903.129181"
      ]
     },
     "execution_count": 142,
     "metadata": {},
     "output_type": "execute_result"
    }
   ],
   "source": [
    "C = r.mul(c, 0)\n",
    "C"
   ]
  },
  {
   "cell_type": "markdown",
   "metadata": {},
   "source": [
    "Its sum over all variables $i$, equals the cost of consumption at $(n,t)$\n",
    "\n",
    "$\\sum_i C_{(n,t)\\rightarrow i} = \\lambda_{(n,t)} \\, d_{(n,t)}$ "
   ]
  },
  {
   "cell_type": "code",
   "execution_count": 143,
   "metadata": {},
   "outputs": [
    {
     "data": {
      "text/plain": [
       "Bus   snapshot\n",
       "Bus1  now         68963.129181\n",
       "dtype: float64"
      ]
     },
     "execution_count": 143,
     "metadata": {},
     "output_type": "execute_result"
    }
   ],
   "source": [
    "C.sum()"
   ]
  },
  {
   "cell_type": "code",
   "execution_count": 144,
   "metadata": {},
   "outputs": [
    {
     "data": {
      "text/html": [
       "<div>\n",
       "<style scoped>\n",
       "    .dataframe tbody tr th:only-of-type {\n",
       "        vertical-align: middle;\n",
       "    }\n",
       "\n",
       "    .dataframe tbody tr th {\n",
       "        vertical-align: top;\n",
       "    }\n",
       "\n",
       "    .dataframe thead tr th {\n",
       "        text-align: left;\n",
       "    }\n",
       "\n",
       "    .dataframe thead tr:last-of-type th {\n",
       "        text-align: right;\n",
       "    }\n",
       "</style>\n",
       "<table border=\"1\" class=\"dataframe\">\n",
       "  <thead>\n",
       "    <tr>\n",
       "      <th></th>\n",
       "      <th></th>\n",
       "      <th></th>\n",
       "      <th>component</th>\n",
       "      <th colspan=\"3\" halign=\"left\">Generator</th>\n",
       "      <th>Bus</th>\n",
       "    </tr>\n",
       "    <tr>\n",
       "      <th></th>\n",
       "      <th></th>\n",
       "      <th></th>\n",
       "      <th>name</th>\n",
       "      <th>mu_nom_upper</th>\n",
       "      <th colspan=\"2\" halign=\"left\">mu_upper</th>\n",
       "      <th>marginal_price</th>\n",
       "    </tr>\n",
       "    <tr>\n",
       "      <th></th>\n",
       "      <th></th>\n",
       "      <th></th>\n",
       "      <th>component_i</th>\n",
       "      <th>Gen0</th>\n",
       "      <th>Gen0</th>\n",
       "      <th>Gen1</th>\n",
       "      <th>Bus1</th>\n",
       "    </tr>\n",
       "    <tr>\n",
       "      <th></th>\n",
       "      <th></th>\n",
       "      <th></th>\n",
       "      <th>snapshot</th>\n",
       "      <th>static</th>\n",
       "      <th>now</th>\n",
       "      <th>now</th>\n",
       "      <th>now</th>\n",
       "    </tr>\n",
       "    <tr>\n",
       "      <th>component</th>\n",
       "      <th>name</th>\n",
       "      <th>component_i</th>\n",
       "      <th>snapshot</th>\n",
       "      <th></th>\n",
       "      <th></th>\n",
       "      <th></th>\n",
       "      <th></th>\n",
       "    </tr>\n",
       "  </thead>\n",
       "  <tbody>\n",
       "    <tr>\n",
       "      <th rowspan=\"4\" valign=\"top\">Generator</th>\n",
       "      <th rowspan=\"2\" valign=\"top\">p</th>\n",
       "      <th>Gen0</th>\n",
       "      <th>now</th>\n",
       "      <td>2098.027182</td>\n",
       "      <td>-0.0</td>\n",
       "      <td>0.0</td>\n",
       "      <td>0.000000</td>\n",
       "    </tr>\n",
       "    <tr>\n",
       "      <th>Gen1</th>\n",
       "      <th>now</th>\n",
       "      <td>-4075.014334</td>\n",
       "      <td>0.0</td>\n",
       "      <td>0.0</td>\n",
       "      <td>6060.000000</td>\n",
       "    </tr>\n",
       "    <tr>\n",
       "      <th rowspan=\"2\" valign=\"top\">p_nom</th>\n",
       "      <th>Gen0</th>\n",
       "      <th>static</th>\n",
       "      <td>42407.438020</td>\n",
       "      <td>0.0</td>\n",
       "      <td>0.0</td>\n",
       "      <td>0.000000</td>\n",
       "    </tr>\n",
       "    <tr>\n",
       "      <th>Gen1</th>\n",
       "      <th>static</th>\n",
       "      <td>-42298.870143</td>\n",
       "      <td>0.0</td>\n",
       "      <td>0.0</td>\n",
       "      <td>62903.129181</td>\n",
       "    </tr>\n",
       "  </tbody>\n",
       "</table>\n",
       "</div>"
      ],
      "text/plain": [
       "component                                Generator                \\\n",
       "name                                  mu_nom_upper mu_upper        \n",
       "component_i                                   Gen0     Gen0 Gen1   \n",
       "snapshot                                    static      now  now   \n",
       "component name  component_i snapshot                               \n",
       "Generator p     Gen0        now        2098.027182     -0.0  0.0   \n",
       "                Gen1        now       -4075.014334      0.0  0.0   \n",
       "          p_nom Gen0        static    42407.438020      0.0  0.0   \n",
       "                Gen1        static   -42298.870143      0.0  0.0   \n",
       "\n",
       "component                                       Bus  \n",
       "name                                 marginal_price  \n",
       "component_i                                    Bus1  \n",
       "snapshot                                        now  \n",
       "component name  component_i snapshot                 \n",
       "Generator p     Gen0        now            0.000000  \n",
       "                Gen1        now         6060.000000  \n",
       "          p_nom Gen0        static         0.000000  \n",
       "                Gen1        static     62903.129181  "
      ]
     },
     "execution_count": 144,
     "metadata": {},
     "output_type": "execute_result"
    }
   ],
   "source": [
    "(A_inv * d).mul(c, 0)"
   ]
  },
  {
   "cell_type": "code",
   "execution_count": 121,
   "metadata": {},
   "outputs": [
    {
     "data": {
      "text/html": [
       "<div>\n",
       "<style scoped>\n",
       "    .dataframe tbody tr th:only-of-type {\n",
       "        vertical-align: middle;\n",
       "    }\n",
       "\n",
       "    .dataframe tbody tr th {\n",
       "        vertical-align: top;\n",
       "    }\n",
       "\n",
       "    .dataframe thead th {\n",
       "        text-align: right;\n",
       "    }\n",
       "</style>\n",
       "<table border=\"1\" class=\"dataframe\">\n",
       "  <thead>\n",
       "    <tr style=\"text-align: right;\">\n",
       "      <th></th>\n",
       "      <th>0</th>\n",
       "    </tr>\n",
       "  </thead>\n",
       "  <tbody>\n",
       "    <tr>\n",
       "      <th>now</th>\n",
       "      <td>6060.0</td>\n",
       "    </tr>\n",
       "  </tbody>\n",
       "</table>\n",
       "</div>"
      ],
      "text/plain": [
       "          0\n",
       "now  6060.0"
      ]
     },
     "execution_count": 121,
     "metadata": {},
     "output_type": "execute_result"
    }
   ],
   "source": [
    "n.loads_t.p * lmp"
   ]
  },
  {
   "cell_type": "code",
   "execution_count": 245,
   "metadata": {},
   "outputs": [
    {
     "data": {
      "text/html": [
       "<div>\n",
       "<style scoped>\n",
       "    .dataframe tbody tr th:only-of-type {\n",
       "        vertical-align: middle;\n",
       "    }\n",
       "\n",
       "    .dataframe tbody tr th {\n",
       "        vertical-align: top;\n",
       "    }\n",
       "\n",
       "    .dataframe thead th {\n",
       "        text-align: right;\n",
       "    }\n",
       "</style>\n",
       "<table border=\"1\" class=\"dataframe\">\n",
       "  <thead>\n",
       "    <tr style=\"text-align: right;\">\n",
       "      <th></th>\n",
       "      <th>Gen0</th>\n",
       "      <th>Gen1</th>\n",
       "    </tr>\n",
       "  </thead>\n",
       "  <tbody>\n",
       "    <tr>\n",
       "      <th>0</th>\n",
       "      <td>0.006005</td>\n",
       "      <td>49.993995</td>\n",
       "    </tr>\n",
       "  </tbody>\n",
       "</table>\n",
       "</div>"
      ],
      "text/plain": [
       "       Gen0       Gen1\n",
       "0  0.006005  49.993995"
      ]
     },
     "execution_count": 245,
     "metadata": {},
     "output_type": "execute_result"
    }
   ],
   "source": [
    "n.generators_t.p"
   ]
  },
  {
   "cell_type": "code",
   "execution_count": 10,
   "metadata": {},
   "outputs": [
    {
     "data": {
      "text/html": [
       "<div>\n",
       "<style scoped>\n",
       "    .dataframe tbody tr th:only-of-type {\n",
       "        vertical-align: middle;\n",
       "    }\n",
       "\n",
       "    .dataframe tbody tr th {\n",
       "        vertical-align: top;\n",
       "    }\n",
       "\n",
       "    .dataframe thead th {\n",
       "        text-align: right;\n",
       "    }\n",
       "</style>\n",
       "<table border=\"1\" class=\"dataframe\">\n",
       "  <thead>\n",
       "    <tr style=\"text-align: right;\">\n",
       "      <th></th>\n",
       "      <th>p_nom_opt</th>\n",
       "      <th>marginal_cost</th>\n",
       "      <th>capital_cost</th>\n",
       "      <th>opex</th>\n",
       "      <th>capex</th>\n",
       "    </tr>\n",
       "  </thead>\n",
       "  <tbody>\n",
       "    <tr>\n",
       "      <th>Gen0</th>\n",
       "      <td>100.004080</td>\n",
       "      <td>52.0</td>\n",
       "      <td>1060.0</td>\n",
       "      <td>8311.610562</td>\n",
       "      <td>106004.324800</td>\n",
       "    </tr>\n",
       "    <tr>\n",
       "      <th>Gen1</th>\n",
       "      <td>30.896417</td>\n",
       "      <td>101.0</td>\n",
       "      <td>1050.0</td>\n",
       "      <td>3146.700737</td>\n",
       "      <td>32441.238143</td>\n",
       "    </tr>\n",
       "    <tr>\n",
       "      <th>Gen2</th>\n",
       "      <td>0.005831</td>\n",
       "      <td>156.0</td>\n",
       "      <td>1020.0</td>\n",
       "      <td>0.917672</td>\n",
       "      <td>5.947620</td>\n",
       "    </tr>\n",
       "  </tbody>\n",
       "</table>\n",
       "</div>"
      ],
      "text/plain": [
       "       p_nom_opt  marginal_cost  capital_cost         opex          capex\n",
       "Gen0  100.004080           52.0        1060.0  8311.610562  106004.324800\n",
       "Gen1   30.896417          101.0        1050.0  3146.700737   32441.238143\n",
       "Gen2    0.005831          156.0        1020.0     0.917672       5.947620"
      ]
     },
     "execution_count": 10,
     "metadata": {},
     "output_type": "execute_result"
    }
   ],
   "source": [
    "opex = (n.generators_t.p * n.generators.marginal_cost).sum()\n",
    "capex = n.generators.p_nom_opt * n.generators.capital_cost\n",
    "n.generators[['p_nom_opt', 'marginal_cost', 'capital_cost']].assign(opex = opex, capex = capex)"
   ]
  },
  {
   "cell_type": "code",
   "execution_count": 12,
   "metadata": {},
   "outputs": [
    {
     "data": {
      "text/html": [
       "<div>\n",
       "<style scoped>\n",
       "    .dataframe tbody tr th:only-of-type {\n",
       "        vertical-align: middle;\n",
       "    }\n",
       "\n",
       "    .dataframe tbody tr th {\n",
       "        vertical-align: top;\n",
       "    }\n",
       "\n",
       "    .dataframe thead th {\n",
       "        text-align: right;\n",
       "    }\n",
       "</style>\n",
       "<table border=\"1\" class=\"dataframe\">\n",
       "  <thead>\n",
       "    <tr style=\"text-align: right;\">\n",
       "      <th></th>\n",
       "      <th>Bus1</th>\n",
       "    </tr>\n",
       "  </thead>\n",
       "  <tbody>\n",
       "    <tr>\n",
       "      <th>0</th>\n",
       "      <td>52.00000</td>\n",
       "    </tr>\n",
       "    <tr>\n",
       "      <th>1</th>\n",
       "      <td>1148.48758</td>\n",
       "    </tr>\n",
       "  </tbody>\n",
       "</table>\n",
       "</div>"
      ],
      "text/plain": [
       "         Bus1\n",
       "0    52.00000\n",
       "1  1148.48758"
      ]
     },
     "execution_count": 12,
     "metadata": {},
     "output_type": "execute_result"
    }
   ],
   "source": [
    "n.buses_t.marginal_price"
   ]
  },
  {
   "cell_type": "markdown",
   "metadata": {},
   "source": [
    "## Extract Allocations for Generators"
   ]
  },
  {
   "cell_type": "code",
   "execution_count": 53,
   "metadata": {
    "title": "extract allocations"
   },
   "outputs": [
    {
     "data": {
      "text/html": [
       "<div>\n",
       "<style scoped>\n",
       "    .dataframe tbody tr th:only-of-type {\n",
       "        vertical-align: middle;\n",
       "    }\n",
       "\n",
       "    .dataframe tbody tr th {\n",
       "        vertical-align: top;\n",
       "    }\n",
       "\n",
       "    .dataframe thead tr th {\n",
       "        text-align: left;\n",
       "    }\n",
       "\n",
       "    .dataframe thead tr:last-of-type th {\n",
       "        text-align: right;\n",
       "    }\n",
       "</style>\n",
       "<table border=\"1\" class=\"dataframe\">\n",
       "  <thead>\n",
       "    <tr>\n",
       "      <th></th>\n",
       "      <th></th>\n",
       "      <th>Gen0</th>\n",
       "      <th>Gen1</th>\n",
       "      <th>Gen2</th>\n",
       "      <th>Gen0</th>\n",
       "      <th>Gen1</th>\n",
       "      <th>Gen2</th>\n",
       "    </tr>\n",
       "    <tr>\n",
       "      <th></th>\n",
       "      <th></th>\n",
       "      <th>0</th>\n",
       "      <th>0</th>\n",
       "      <th>0</th>\n",
       "      <th>1</th>\n",
       "      <th>1</th>\n",
       "      <th>1</th>\n",
       "    </tr>\n",
       "    <tr>\n",
       "      <th>Bus</th>\n",
       "      <th>snapshot</th>\n",
       "      <th></th>\n",
       "      <th></th>\n",
       "      <th></th>\n",
       "      <th></th>\n",
       "      <th></th>\n",
       "      <th></th>\n",
       "    </tr>\n",
       "  </thead>\n",
       "  <tbody>\n",
       "    <tr>\n",
       "      <th rowspan=\"2\" valign=\"top\">Bus1</th>\n",
       "      <th>0</th>\n",
       "      <td>3120.000000</td>\n",
       "      <td>0.000000</td>\n",
       "      <td>0.0</td>\n",
       "      <td>0.0</td>\n",
       "      <td>0.0</td>\n",
       "      <td>0.0</td>\n",
       "    </tr>\n",
       "    <tr>\n",
       "      <th>1</th>\n",
       "      <td>-38.847449</td>\n",
       "      <td>75.453698</td>\n",
       "      <td>0.0</td>\n",
       "      <td>0.0</td>\n",
       "      <td>13231.0</td>\n",
       "      <td>0.0</td>\n",
       "    </tr>\n",
       "  </tbody>\n",
       "</table>\n",
       "</div>"
      ],
      "text/plain": [
       "                      Gen0       Gen1 Gen2 Gen0     Gen1 Gen2\n",
       "                         0          0    0    1        1    1\n",
       "Bus  snapshot                                                \n",
       "Bus1 0         3120.000000   0.000000  0.0  0.0      0.0  0.0\n",
       "     1          -38.847449  75.453698  0.0  0.0  13231.0  0.0"
      ]
     },
     "execution_count": 53,
     "metadata": {},
     "output_type": "execute_result"
    }
   ],
   "source": [
    "allocated_demand = r.loc['Generator', 'p', :, :]\n",
    "operational_cost = c.loc['Generator', 'p', :, :]\n",
    "O = allocated_demand.T * operational_cost\n",
    "O"
   ]
  },
  {
   "cell_type": "code",
   "execution_count": 58,
   "metadata": {},
   "outputs": [
    {
     "name": "stdout",
     "output_type": "stream",
     "text": [
      "Bus   snapshot\n",
      "Bus1  0            3120.00000\n",
      "      1           13267.60625\n",
      "dtype: float64\n"
     ]
    },
    {
     "data": {
      "text/plain": [
       "0  Bus1      3120.000000\n",
       "1  Bus1    150451.872995\n",
       "dtype: float64"
      ]
     },
     "execution_count": 58,
     "metadata": {},
     "output_type": "execute_result"
    }
   ],
   "source": [
    "print(O.sum(1)); \n",
    "lmp * demand"
   ]
  },
  {
   "cell_type": "code",
   "execution_count": 35,
   "metadata": {},
   "outputs": [
    {
     "data": {
      "text/html": [
       "<div>\n",
       "<style scoped>\n",
       "    .dataframe tbody tr th:only-of-type {\n",
       "        vertical-align: middle;\n",
       "    }\n",
       "\n",
       "    .dataframe tbody tr th {\n",
       "        vertical-align: top;\n",
       "    }\n",
       "\n",
       "    .dataframe thead th {\n",
       "        text-align: right;\n",
       "    }\n",
       "</style>\n",
       "<table border=\"1\" class=\"dataframe\">\n",
       "  <thead>\n",
       "    <tr style=\"text-align: right;\">\n",
       "      <th></th>\n",
       "      <th>Gen0</th>\n",
       "      <th>Gen1</th>\n",
       "      <th>Gen2</th>\n",
       "    </tr>\n",
       "  </thead>\n",
       "  <tbody>\n",
       "    <tr>\n",
       "      <th>0</th>\n",
       "      <td>3110.810778</td>\n",
       "      <td>17.843237</td>\n",
       "      <td>0.007816</td>\n",
       "    </tr>\n",
       "    <tr>\n",
       "      <th>1</th>\n",
       "      <td>5200.799784</td>\n",
       "      <td>3128.857500</td>\n",
       "      <td>0.909856</td>\n",
       "    </tr>\n",
       "  </tbody>\n",
       "</table>\n",
       "</div>"
      ],
      "text/plain": [
       "          Gen0         Gen1      Gen2\n",
       "0  3110.810778    17.843237  0.007816\n",
       "1  5200.799784  3128.857500  0.909856"
      ]
     },
     "execution_count": 35,
     "metadata": {},
     "output_type": "execute_result"
    }
   ],
   "source": [
    "n.generators_t.p * n.generators.marginal_cost"
   ]
  },
  {
   "cell_type": "code",
   "execution_count": 52,
   "metadata": {},
   "outputs": [
    {
     "data": {
      "text/html": [
       "<div>\n",
       "<style scoped>\n",
       "    .dataframe tbody tr th:only-of-type {\n",
       "        vertical-align: middle;\n",
       "    }\n",
       "\n",
       "    .dataframe tbody tr th {\n",
       "        vertical-align: top;\n",
       "    }\n",
       "\n",
       "    .dataframe thead tr th {\n",
       "        text-align: left;\n",
       "    }\n",
       "\n",
       "    .dataframe thead tr:last-of-type th {\n",
       "        text-align: right;\n",
       "    }\n",
       "</style>\n",
       "<table border=\"1\" class=\"dataframe\">\n",
       "  <thead>\n",
       "    <tr>\n",
       "      <th></th>\n",
       "      <th></th>\n",
       "      <th colspan=\"9\" halign=\"left\">Generator</th>\n",
       "    </tr>\n",
       "    <tr>\n",
       "      <th></th>\n",
       "      <th></th>\n",
       "      <th colspan=\"6\" halign=\"left\">p</th>\n",
       "      <th colspan=\"3\" halign=\"left\">p_nom</th>\n",
       "    </tr>\n",
       "    <tr>\n",
       "      <th></th>\n",
       "      <th></th>\n",
       "      <th>Gen0</th>\n",
       "      <th>Gen1</th>\n",
       "      <th>Gen2</th>\n",
       "      <th>Gen0</th>\n",
       "      <th>Gen1</th>\n",
       "      <th>Gen2</th>\n",
       "      <th>Gen0</th>\n",
       "      <th>Gen1</th>\n",
       "      <th>Gen2</th>\n",
       "    </tr>\n",
       "    <tr>\n",
       "      <th></th>\n",
       "      <th></th>\n",
       "      <th>0</th>\n",
       "      <th>0</th>\n",
       "      <th>0</th>\n",
       "      <th>1</th>\n",
       "      <th>1</th>\n",
       "      <th>1</th>\n",
       "      <th>static</th>\n",
       "      <th>static</th>\n",
       "      <th>static</th>\n",
       "    </tr>\n",
       "    <tr>\n",
       "      <th>Bus</th>\n",
       "      <th>snapshot</th>\n",
       "      <th></th>\n",
       "      <th></th>\n",
       "      <th></th>\n",
       "      <th></th>\n",
       "      <th></th>\n",
       "      <th></th>\n",
       "      <th></th>\n",
       "      <th></th>\n",
       "      <th></th>\n",
       "    </tr>\n",
       "  </thead>\n",
       "  <tbody>\n",
       "    <tr>\n",
       "      <th rowspan=\"2\" valign=\"top\">Bus1</th>\n",
       "      <th>0</th>\n",
       "      <td>3120.000000</td>\n",
       "      <td>0.000000</td>\n",
       "      <td>0.0</td>\n",
       "      <td>0.0</td>\n",
       "      <td>0.0</td>\n",
       "      <td>0.0</td>\n",
       "      <td>0.0</td>\n",
       "      <td>0.000000</td>\n",
       "      <td>0.0</td>\n",
       "    </tr>\n",
       "    <tr>\n",
       "      <th>1</th>\n",
       "      <td>-38.847449</td>\n",
       "      <td>75.453698</td>\n",
       "      <td>0.0</td>\n",
       "      <td>0.0</td>\n",
       "      <td>13231.0</td>\n",
       "      <td>0.0</td>\n",
       "      <td>0.0</td>\n",
       "      <td>137184.266745</td>\n",
       "      <td>0.0</td>\n",
       "    </tr>\n",
       "  </tbody>\n",
       "</table>\n",
       "</div>"
      ],
      "text/plain": [
       "                 Generator                                            \\\n",
       "                         p                                     p_nom   \n",
       "                      Gen0       Gen1 Gen2 Gen0     Gen1 Gen2   Gen0   \n",
       "                         0          0    0    1        1    1 static   \n",
       "Bus  snapshot                                                          \n",
       "Bus1 0         3120.000000   0.000000  0.0  0.0      0.0  0.0    0.0   \n",
       "     1          -38.847449  75.453698  0.0  0.0  13231.0  0.0    0.0   \n",
       "\n",
       "                                     \n",
       "                                     \n",
       "                        Gen1   Gen2  \n",
       "                      static static  \n",
       "Bus  snapshot                        \n",
       "Bus1 0              0.000000    0.0  \n",
       "     1         137184.266745    0.0  "
      ]
     },
     "execution_count": 52,
     "metadata": {},
     "output_type": "execute_result"
    }
   ],
   "source": [
    "(D.T * c).mul(demand.values, 0)"
   ]
  },
  {
   "cell_type": "code",
   "execution_count": null,
   "metadata": {},
   "outputs": [],
   "source": [
    "capex = r.loc['Generator', 'p_nom', :, 'static']\n",
    "capex = capex.loc[:, (capex >= 0.1).any()]\n",
    "capex"
   ]
  }
 ],
 "metadata": {
  "@webio": {
   "lastCommId": null,
   "lastKernelId": null
  },
  "jupytext": {
   "cell_metadata_filter": "title,-all",
   "encoding": "# -*- coding: utf-8 -*-",
   "executable": "/usr/bin/env python3",
   "main_language": "python",
   "notebook_metadata_filter": "-all"
  },
  "kernelspec": {
   "display_name": "Python 3",
   "language": "python",
   "name": "python3"
  },
  "language_info": {
   "codemirror_mode": {
    "name": "ipython",
    "version": 3
   },
   "file_extension": ".py",
   "mimetype": "text/x-python",
   "name": "python",
   "nbconvert_exporter": "python",
   "pygments_lexer": "ipython3",
   "version": "3.7.6"
  }
 },
 "nbformat": 4,
 "nbformat_minor": 4
}
